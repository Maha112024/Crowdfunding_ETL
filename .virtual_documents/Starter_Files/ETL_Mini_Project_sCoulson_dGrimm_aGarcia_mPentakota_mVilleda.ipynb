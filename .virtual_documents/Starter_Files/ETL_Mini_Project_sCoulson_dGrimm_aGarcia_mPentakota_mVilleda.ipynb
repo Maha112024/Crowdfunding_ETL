# Import dependencies
import pandas as pd
import numpy as np
pd.set_option('max_colwidth', 400)





# Read the data into a Pandas DataFrame
crowdfunding_info_df = pd.read_excel('Resources/crowdfunding.xlsx')
crowdfunding_info_df.head()


# Get a brief summary of the crowdfunding_info DataFrame.
crowdfunding_info_df.info()





# Get the crowdfunding_info_df columns.
crowdfunding_cols = crowdfunding_info_df.columns.tolist()
print(crowdfunding_cols)


# Assign the category and subcategory values to category and subcategory columns.
crowdfunding_info_df[['category','subcategory']] = crowdfunding_info_df['category & sub-category'].str.split('/', expand=True)
crowdfunding_info_df


# Get the unique categories and subcategories in separate lists.
cat = crowdfunding_info_df['category'].unique()
subcat = crowdfunding_info_df['subcategory'].unique()

#Add the categories and subcategories into their respective lists.
categories = [c for c in cat]
subcategories = [s for s in subcat]

print(categories)
print(subcategories)


# Get the number of distinct values in the categories and subcategories lists.
print(len(categories))
print(len(subcategories))


# Create numpy arrays from 1-9 for the categories and 1-24 for the subcategories.
category_ids = np.arange(1, 10)
subcategory_ids = np.arange(1, 25)

print(category_ids)
print(subcategory_ids)



# Use a list comprehension to add "cat" to each category_id. 
cat_ids = ['cat'+str(num) for num in category_ids]

# Use a list comprehension to add "subcat" to each subcategory_id.    
scat_ids = ['subcat'+str(num) for num in subcategory_ids]

print(cat_ids)
print(scat_ids)


# Create a category DataFrame with the category_id array as the category_id and categories list as the category name.
category_df = pd.DataFrame({'category_id': cat_ids, 'category': categories})

# Create a category DataFrame with the subcategory_id array as the subcategory_id and subcategories list as the subcategory name. 
subcategory_df = pd.DataFrame({'subcategory_id': scat_ids, 'subcategory': subcategories})


category_df


subcategory_df


# Export categories_df and subcategories_df as CSV files.
category_df.to_csv("Resources/category.csv", index=False)

subcategory_df.to_csv("Resources/subcategory.csv", index=False)





# Create a copy of the crowdfunding_info_df DataFrame name campaign_df. 
campaign_df = crowdfunding_info_df.copy()
campaign_df.head()


# Rename the blurb, launched_at, and deadline columns.
campaign_df = campaign_df.rename(columns={'blurb':'description','launched_at':'launch_date','deadline':'end_date'})
campaign_df


# Convert the goal and pledged columns to a `float` data type.
campaign_df['goal'] = campaign_df['goal'].astype(float)
campaign_df['pledged'] = campaign_df['pledged'].astype(float)
campaign_df


# Check the datatypes
print(campaign_df.dtypes)


# Format the launch_date and end_date columns to datetime format
from datetime import datetime as dt
campaign_df['launch_date'] = pd.to_datetime(campaign_df['launch_date'],unit = 's').dt.date
campaign_df['end_date'] = pd.to_datetime(campaign_df['end_date'], unit = 's').dt.date


campaign_df


# Merge the campaign_df with the category_df on the "category" column and 
# the subcategory_df on the "subcategory" column.
campaign_merged_df = campaign_df.merge(category_df, on="category").merge(subcategory_df, on="subcategory")

campaign_merged_df.tail(2)


# Drop unwanted columns
#'spotlight','staff_picks','category & subcategory','category','subcategory'
campaign_cleaned = campaign_merged_df.drop(columns=['spotlight','staff_pick','category & sub-category','category','subcategory'])

campaign_cleaned


# Export the DataFrame as a CSV file. 
campaign_cleaned.to_csv("Resources/campaign.csv", index=False)





# Read the data into a Pandas DataFrame. Use the `header=2` parameter when reading in the data.
contact_info_df = pd.read_excel('Resources/contacts.xlsx', header=2)
contact_info_df.head()








# Iterate through the contact_info_df and convert each row to a dictionary.
import json
dict_values = []
# Iterate through each row in the DataFrame
for i, row in contact_info_df.iterrows():
    # Get the data from the first column (row[0])
    data = row[0]
    
    # Check if the data is empty or None
    if not data:
        print(f"Skipping empty data at row {i}: {data}")
        continue  # Skip empty or invalid rows
    
    try:
        # Try parsing the data as a JSON string (if it's a valid JSON string)
        converted_data = json.loads(data)
    except json.JSONDecodeError as e:
        # Catch the error and print which row has the issue
        print(f"JSONDecodeError at row {i}: {data}")
        continue  # Skip the row with the error
    
    # Extract the values from the dictionary
    row_values = [v for k, v in converted_data.items()]
    
    # Append the list of values to the dict_values list
    dict_values.append(row_values)

# Print the final list of values
print(dict_values)


# Create a contact_info DataFrame and add each list of values, i.e., each row 
# to the 'contact_id', 'name', 'email' columns.
contact_clean_df = pd.DataFrame(dict_values, columns=['contact_id', 'name', 'email'])
contact_clean_df.head()


# Check the datatypes.
contact_clean_df.info()


# Create a "first"name" and "last_name" column with the first and last names from the "name" column. 
contact_clean_df[['first_name', 'last_name']] = contact_clean_df['name'].str.split(' ', expand=True)

# Drop the contact_name column
contact_clean_df.drop(columns=['name'],inplace=True)
contact_clean_df.head()



# Reorder the columns
contact_clean_df = contact_clean_df[['contact_id', 'first_name', 'last_name', 'email']]
contact_clean_df.head()


# Check the datatypes one more time before exporting as CSV file.
contact_clean_df.info()


# Export the DataFrame as a CSV file. 
contact_clean_df.to_csv("Resources/contacts.csv", encoding='utf8', index=False)





contact_info_df_copy = pd.read_excel('Resources/contacts.xlsx', skiprows=1, header=2)
contact_info_df_copy.columns = ['contact_info']

contact_info_df_copy.head()


# Extract the four-digit contact ID number.

import json
# Create a new column ‘contact_id’ by parsing the 
contact_info_df_copy['contact_id'] = contact_info_df_copy['contact_info'].str.extract(r'(\d{4})')
contact_info_df_copy.head()


# Check the datatypes.
contact_info_df_copy.info()


# Convert the "contact_id" column to an int64 data type.
contact_info_df_copy['contact_id'] = contact_info_df_copy['contact_id'].astype('int64')
contact_info_df_copy.info()                                                                            


# Extract the name of the contact and add it to a new column.
contact_info_df_copy['name'] = contact_info_df_copy['contact_info'].str.extract(r'"name": "(.*?)"')
contact_info_df_copy.head()


# Extract the email from the contacts and add the values to a new column.
contact_info_df_copy['email'] = contact_info_df_copy['contact_info'].str.extract(r'"email": "(.*?)"')
contact_info_df_copy.head()


# Create a copy of the contact_info_df with the 'contact_id', 'name', 'email' columns.
contact_info_df_newcopy = contact_info_df_copy[['contact_id', 'name', 'email']]
contact_info_df_newcopy.head()


# Create a "first"name" and "last_name" column with the first and last names from the "name" column. 
contact_info_df_newcopy[['first_name', 'last_name']] = contact_info_df_newcopy['name'].str.split(' ', expand=True)

# Drop the contact_name column
contact_info_df_newcopy.drop(columns=['name'],inplace=True)
contact_info_df_newcopy.head()


# Reorder the columns
contact_info_df_newcopy = contact_info_df_newcopy[['contact_id', 'first_name', 'last_name', 'email']]
contact_info_df_newcopy.head()


# Check the datatypes one more time before exporting as CSV file.
contact_info_df_newcopy.info()


# Export the DataFrame as a CSV file. 
contact_info_df_newcopy.to_csv("Resources/contacts.csv", encoding='utf8', index=False)



